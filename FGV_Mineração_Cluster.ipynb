{
  "nbformat": 4,
  "nbformat_minor": 0,
  "metadata": {
    "colab": {
      "name": "FGV_Mineração_Cluster.ipynb",
      "provenance": [],
      "authorship_tag": "ABX9TyN5giznZmBdngbFPV4kuAoG",
      "include_colab_link": true
    },
    "kernelspec": {
      "name": "python3",
      "display_name": "Python 3"
    },
    "language_info": {
      "name": "python"
    }
  },
  "cells": [
    {
      "cell_type": "markdown",
      "metadata": {
        "id": "view-in-github",
        "colab_type": "text"
      },
      "source": [
        "<a href=\"https://colab.research.google.com/github/fabiobrabo/FGV_Sol_Min_Dados/blob/main/FGV_Minera%C3%A7%C3%A3o_Cluster.ipynb\" target=\"_parent\"><img src=\"https://colab.research.google.com/assets/colab-badge.svg\" alt=\"Open In Colab\"/></a>"
      ]
    },
    {
      "cell_type": "markdown",
      "source": [
        "# Trabalho da Disciplina **Soluções de Mineração de Dados**\n",
        "\n",
        "**Alunos:**\n",
        "\n",
        "* CASSIANO RICARDO ERHARDT \n",
        "* FÁBIO OLIVEIRA GUIMARÃES \n",
        "* FELIPE DE MELO ROSA \n",
        "* MÁRCIO MILESKI\n",
        "* MÁRCIO ROBERTO REGOS RANSOLIM \n",
        "* NILSON CESAR JUNIOR \n",
        "* WANDERSON LANGAMER DA ROCHA\n",
        "\n"
      ],
      "metadata": {
        "id": "9UjM5Or13URN"
      }
    },
    {
      "cell_type": "markdown",
      "source": [
        "# **Problema de Negócio**\n",
        "\n",
        "Este trabalho visa resolver um problema de negócio utilizando regras de Cluster Particional. A base escolhida foi **South German Credit** presente no Datasets da UCI¹. O problema é identificar o padrão dos clientes bons e mals pagadores.\n",
        "\n",
        "¹*https://archive.ics.uci.edu/ml/datasets/South+German+Credit*\n",
        "\n",
        "A base **South German Credit** tem 1000 registros com 21 variáveis, sendo 20 \n",
        "\n",
        "***Apresentar pergunta de negócio ou análise exploratória de negócio;***"
      ],
      "metadata": {
        "id": "tLfyuFR7TrHR"
      }
    },
    {
      "cell_type": "markdown",
      "source": [
        "# Campos do Dataset\n",
        "\n",
        "**1. laufkont = status**\n",
        "* 1 : no checking account\n",
        "* 2 : … < 0 DM\n",
        "* 3 : 0<= … < 200 DM\n",
        "* 4 : … >= 200 DM / salary for at least 1 year\n",
        "\n",
        "**2. laufzeit = duration**\n",
        "\n",
        "**3. moral = credit_history**\n",
        "* 0 : delay in paying off in the past\n",
        "* 1 : critical account/other credits elsewhere\n",
        "* 2 : no credits taken/all credits paid back duly\n",
        "* 3 : existing credits paid back duly till now\n",
        "* 4 : all credits at this bank paid back duly\n",
        "\n",
        "**4. verw = purpose**\n",
        "* 0 : others\n",
        "* 1 : car (new)\n",
        "* 2 : car (used)\n",
        "* 3 : furniture/equipment\n",
        "* 4 : radio/television\n",
        "* 5 : domestic appliances\n",
        "* 6 : repairs\n",
        "* 7 : education\n",
        "* 8 : vacation\n",
        "* 9 : retraining\n",
        "* 10 : business\n",
        "\n",
        "**5. hoehe = amount**\n",
        "\n",
        "**6. sparkont = savings**\n",
        "* 1 : unknown/no savings account\n",
        "* 2 : … < 100 DM\n",
        "* 3 : 100 <= … < 500 DM\n",
        "* 4 : 500 <= … < 1000 DM\n",
        "* 5 : … >= 1000 DM\n",
        "\n",
        "**7. beszeit = employment_duration**\n",
        "* 1 : unemployed\n",
        "* 2 : < 1 yr\n",
        "* 3 : 1 <= … < 4 yrs\n",
        "* 4 : 4 <= … < 7 yrs\n",
        "* 5 : >= 7 yrs\n",
        "\n",
        "**8. rate = installment_rate**\n",
        "* 1 : >= 35\n",
        "* 2 : 25 <= … < 35\n",
        "* 3 : 20 <= … < 25\n",
        "* 4 : < 20\n",
        "\n",
        "**9. famges = personalstatussex**\n",
        "* 1 : male : divorced/separated\n",
        "* 2 : female : non-single or male : single\n",
        "* 3 : male : married/widowed\n",
        "* 4 : female : single\n",
        "\n",
        "**10. buerge = other_debtors**\n",
        "* 1 : none\n",
        "* 2 : co-applicant\n",
        "* 3 : guarantor\n",
        "\n",
        "**11. wohnzeit = present_residence**\n",
        "* 1 : < 1 yr\n",
        "* 2 : 1 <= … < 4 yrs\n",
        "* 3 : 4 <= … < 7 yrs\n",
        "* 4 : >= 7 yrs\n",
        "\n",
        "**12. verm = property**\n",
        "* 1 : unknown / no property\n",
        "* 2 : car or other\n",
        "* 3 : building soc. savings agr./life insurance\n",
        "* 4 : real estate\n",
        "\n",
        "**13. alter = age**\n",
        "\n",
        "**14. weitkred = otherinstallmentplans**\n",
        "1 : bank\n",
        "2 : stores\n",
        "3 : none\n",
        "\n",
        "**15. wohn = housing**\n",
        "* 1 : for free\n",
        "* 2 : rent\n",
        "* 3 : own\n",
        "\n",
        "**16. bishkred = number_credits**\n",
        "* 1 : 1\n",
        "* 2 : 2-3\n",
        "* 3 : 4-5\n",
        "* 4 : >= 6\n",
        "\n",
        "**17. beruf = job**\n",
        "* 1 : unemployed/unskilled - non-resident\n",
        "* 2 : unskilled - resident\n",
        "* 3 : skilled employee/official\n",
        "* 4 : manager/self-empl./highly qualif. employee\n",
        "\n",
        "**18. pers = people_liable**\n",
        "* 1 : 3 or more\n",
        "* 2 : 0 to 2\n",
        "\n",
        "**19. telef = telephone**\n",
        "* 1 : no\n",
        "* 2 : yes (under customer name)\n",
        "\n",
        "**20. gastarb = foreign_worker**\n",
        "* 1 : yes\n",
        "* 2 : no\n",
        "\n",
        "**21. kredit (target column) = credit_risk**\n",
        "* 0 : bad\n",
        "* 1 : good"
      ],
      "metadata": {
        "id": "dFrxpjpDei1B"
      }
    },
    {
      "cell_type": "code",
      "source": [
        "#Importando bibliotecas\n",
        "import pandas as pd\n",
        "import numpy as np\n",
        "import seaborn as sns\n",
        "from sklearn.cluster import KMeans\n",
        "from matplotlib import pyplot as plt\n",
        "from sklearn.model_selection import train_test_split"
      ],
      "metadata": {
        "id": "PgfYGgO11dNj"
      },
      "execution_count": 180,
      "outputs": []
    },
    {
      "cell_type": "code",
      "metadata": {
        "id": "wli8sxANBJCa",
        "colab": {
          "base_uri": "https://localhost:8080/",
          "height": 348
        },
        "outputId": "4b706e48-cbcf-406c-96a9-651192d86b6e"
      },
      "source": [
        "#importando os dados\n",
        "\n",
        "dataset = pd.read_csv(\"https://raw.githubusercontent.com/fabiobrabo/FGV_Sol_Min_Dados/main/SouthGermanCredit.csv\")\n"
      ],
      "execution_count": 181,
      "outputs": [
        {
          "output_type": "error",
          "ename": "HTTPError",
          "evalue": "ignored",
          "traceback": [
            "\u001b[0;31m---------------------------------------------------------------------------\u001b[0m",
            "\u001b[0;31mHTTPError\u001b[0m                                 Traceback (most recent call last)",
            "\u001b[0;32m<ipython-input-181-c9e68acbc61b>\u001b[0m in \u001b[0;36m<module>\u001b[0;34m()\u001b[0m\n\u001b[1;32m      1\u001b[0m \u001b[0;31m#importando os dados\u001b[0m\u001b[0;34m\u001b[0m\u001b[0;34m\u001b[0m\u001b[0;34m\u001b[0m\u001b[0m\n\u001b[1;32m      2\u001b[0m \u001b[0;34m\u001b[0m\u001b[0m\n\u001b[0;32m----> 3\u001b[0;31m \u001b[0mdataset\u001b[0m \u001b[0;34m=\u001b[0m \u001b[0mpd\u001b[0m\u001b[0;34m.\u001b[0m\u001b[0mread_csv\u001b[0m\u001b[0;34m(\u001b[0m\u001b[0;34m\"https://raw.githubusercontent.com/fabiobrabo/FGV_Sol_Min_Dados/main/SouthGermanCredit.csv\"\u001b[0m\u001b[0;34m)\u001b[0m\u001b[0;34m\u001b[0m\u001b[0;34m\u001b[0m\u001b[0m\n\u001b[0m",
            "\u001b[0;32m/usr/local/lib/python3.7/dist-packages/pandas/io/parsers.py\u001b[0m in \u001b[0;36mread_csv\u001b[0;34m(filepath_or_buffer, sep, delimiter, header, names, index_col, usecols, squeeze, prefix, mangle_dupe_cols, dtype, engine, converters, true_values, false_values, skipinitialspace, skiprows, skipfooter, nrows, na_values, keep_default_na, na_filter, verbose, skip_blank_lines, parse_dates, infer_datetime_format, keep_date_col, date_parser, dayfirst, cache_dates, iterator, chunksize, compression, thousands, decimal, lineterminator, quotechar, quoting, doublequote, escapechar, comment, encoding, dialect, error_bad_lines, warn_bad_lines, delim_whitespace, low_memory, memory_map, float_precision)\u001b[0m\n\u001b[1;32m    686\u001b[0m     )\n\u001b[1;32m    687\u001b[0m \u001b[0;34m\u001b[0m\u001b[0m\n\u001b[0;32m--> 688\u001b[0;31m     \u001b[0;32mreturn\u001b[0m \u001b[0m_read\u001b[0m\u001b[0;34m(\u001b[0m\u001b[0mfilepath_or_buffer\u001b[0m\u001b[0;34m,\u001b[0m \u001b[0mkwds\u001b[0m\u001b[0;34m)\u001b[0m\u001b[0;34m\u001b[0m\u001b[0;34m\u001b[0m\u001b[0m\n\u001b[0m\u001b[1;32m    689\u001b[0m \u001b[0;34m\u001b[0m\u001b[0m\n\u001b[1;32m    690\u001b[0m \u001b[0;34m\u001b[0m\u001b[0m\n",
            "\u001b[0;32m/usr/local/lib/python3.7/dist-packages/pandas/io/parsers.py\u001b[0m in \u001b[0;36m_read\u001b[0;34m(filepath_or_buffer, kwds)\u001b[0m\n\u001b[1;32m    435\u001b[0m     \u001b[0;31m# See https://github.com/python/mypy/issues/1297\u001b[0m\u001b[0;34m\u001b[0m\u001b[0;34m\u001b[0m\u001b[0;34m\u001b[0m\u001b[0m\n\u001b[1;32m    436\u001b[0m     fp_or_buf, _, compression, should_close = get_filepath_or_buffer(\n\u001b[0;32m--> 437\u001b[0;31m         \u001b[0mfilepath_or_buffer\u001b[0m\u001b[0;34m,\u001b[0m \u001b[0mencoding\u001b[0m\u001b[0;34m,\u001b[0m \u001b[0mcompression\u001b[0m\u001b[0;34m\u001b[0m\u001b[0;34m\u001b[0m\u001b[0m\n\u001b[0m\u001b[1;32m    438\u001b[0m     )\n\u001b[1;32m    439\u001b[0m     \u001b[0mkwds\u001b[0m\u001b[0;34m[\u001b[0m\u001b[0;34m\"compression\"\u001b[0m\u001b[0;34m]\u001b[0m \u001b[0;34m=\u001b[0m \u001b[0mcompression\u001b[0m\u001b[0;34m\u001b[0m\u001b[0;34m\u001b[0m\u001b[0m\n",
            "\u001b[0;32m/usr/local/lib/python3.7/dist-packages/pandas/io/common.py\u001b[0m in \u001b[0;36mget_filepath_or_buffer\u001b[0;34m(filepath_or_buffer, encoding, compression, mode, storage_options)\u001b[0m\n\u001b[1;32m    181\u001b[0m     \u001b[0;32mif\u001b[0m \u001b[0misinstance\u001b[0m\u001b[0;34m(\u001b[0m\u001b[0mfilepath_or_buffer\u001b[0m\u001b[0;34m,\u001b[0m \u001b[0mstr\u001b[0m\u001b[0;34m)\u001b[0m \u001b[0;32mand\u001b[0m \u001b[0mis_url\u001b[0m\u001b[0;34m(\u001b[0m\u001b[0mfilepath_or_buffer\u001b[0m\u001b[0;34m)\u001b[0m\u001b[0;34m:\u001b[0m\u001b[0;34m\u001b[0m\u001b[0;34m\u001b[0m\u001b[0m\n\u001b[1;32m    182\u001b[0m         \u001b[0;31m# TODO: fsspec can also handle HTTP via requests, but leaving this unchanged\u001b[0m\u001b[0;34m\u001b[0m\u001b[0;34m\u001b[0m\u001b[0;34m\u001b[0m\u001b[0m\n\u001b[0;32m--> 183\u001b[0;31m         \u001b[0mreq\u001b[0m \u001b[0;34m=\u001b[0m \u001b[0murlopen\u001b[0m\u001b[0;34m(\u001b[0m\u001b[0mfilepath_or_buffer\u001b[0m\u001b[0;34m)\u001b[0m\u001b[0;34m\u001b[0m\u001b[0;34m\u001b[0m\u001b[0m\n\u001b[0m\u001b[1;32m    184\u001b[0m         \u001b[0mcontent_encoding\u001b[0m \u001b[0;34m=\u001b[0m \u001b[0mreq\u001b[0m\u001b[0;34m.\u001b[0m\u001b[0mheaders\u001b[0m\u001b[0;34m.\u001b[0m\u001b[0mget\u001b[0m\u001b[0;34m(\u001b[0m\u001b[0;34m\"Content-Encoding\"\u001b[0m\u001b[0;34m,\u001b[0m \u001b[0;32mNone\u001b[0m\u001b[0;34m)\u001b[0m\u001b[0;34m\u001b[0m\u001b[0;34m\u001b[0m\u001b[0m\n\u001b[1;32m    185\u001b[0m         \u001b[0;32mif\u001b[0m \u001b[0mcontent_encoding\u001b[0m \u001b[0;34m==\u001b[0m \u001b[0;34m\"gzip\"\u001b[0m\u001b[0;34m:\u001b[0m\u001b[0;34m\u001b[0m\u001b[0;34m\u001b[0m\u001b[0m\n",
            "\u001b[0;32m/usr/local/lib/python3.7/dist-packages/pandas/io/common.py\u001b[0m in \u001b[0;36murlopen\u001b[0;34m(*args, **kwargs)\u001b[0m\n\u001b[1;32m    135\u001b[0m     \u001b[0;32mimport\u001b[0m \u001b[0murllib\u001b[0m\u001b[0;34m.\u001b[0m\u001b[0mrequest\u001b[0m\u001b[0;34m\u001b[0m\u001b[0;34m\u001b[0m\u001b[0m\n\u001b[1;32m    136\u001b[0m \u001b[0;34m\u001b[0m\u001b[0m\n\u001b[0;32m--> 137\u001b[0;31m     \u001b[0;32mreturn\u001b[0m \u001b[0murllib\u001b[0m\u001b[0;34m.\u001b[0m\u001b[0mrequest\u001b[0m\u001b[0;34m.\u001b[0m\u001b[0murlopen\u001b[0m\u001b[0;34m(\u001b[0m\u001b[0;34m*\u001b[0m\u001b[0margs\u001b[0m\u001b[0;34m,\u001b[0m \u001b[0;34m**\u001b[0m\u001b[0mkwargs\u001b[0m\u001b[0;34m)\u001b[0m\u001b[0;34m\u001b[0m\u001b[0;34m\u001b[0m\u001b[0m\n\u001b[0m\u001b[1;32m    138\u001b[0m \u001b[0;34m\u001b[0m\u001b[0m\n\u001b[1;32m    139\u001b[0m \u001b[0;34m\u001b[0m\u001b[0m\n",
            "\u001b[0;32m/usr/lib/python3.7/urllib/request.py\u001b[0m in \u001b[0;36murlopen\u001b[0;34m(url, data, timeout, cafile, capath, cadefault, context)\u001b[0m\n\u001b[1;32m    220\u001b[0m     \u001b[0;32melse\u001b[0m\u001b[0;34m:\u001b[0m\u001b[0;34m\u001b[0m\u001b[0;34m\u001b[0m\u001b[0m\n\u001b[1;32m    221\u001b[0m         \u001b[0mopener\u001b[0m \u001b[0;34m=\u001b[0m \u001b[0m_opener\u001b[0m\u001b[0;34m\u001b[0m\u001b[0;34m\u001b[0m\u001b[0m\n\u001b[0;32m--> 222\u001b[0;31m     \u001b[0;32mreturn\u001b[0m \u001b[0mopener\u001b[0m\u001b[0;34m.\u001b[0m\u001b[0mopen\u001b[0m\u001b[0;34m(\u001b[0m\u001b[0murl\u001b[0m\u001b[0;34m,\u001b[0m \u001b[0mdata\u001b[0m\u001b[0;34m,\u001b[0m \u001b[0mtimeout\u001b[0m\u001b[0;34m)\u001b[0m\u001b[0;34m\u001b[0m\u001b[0;34m\u001b[0m\u001b[0m\n\u001b[0m\u001b[1;32m    223\u001b[0m \u001b[0;34m\u001b[0m\u001b[0m\n\u001b[1;32m    224\u001b[0m \u001b[0;32mdef\u001b[0m \u001b[0minstall_opener\u001b[0m\u001b[0;34m(\u001b[0m\u001b[0mopener\u001b[0m\u001b[0;34m)\u001b[0m\u001b[0;34m:\u001b[0m\u001b[0;34m\u001b[0m\u001b[0;34m\u001b[0m\u001b[0m\n",
            "\u001b[0;32m/usr/lib/python3.7/urllib/request.py\u001b[0m in \u001b[0;36mopen\u001b[0;34m(self, fullurl, data, timeout)\u001b[0m\n\u001b[1;32m    529\u001b[0m         \u001b[0;32mfor\u001b[0m \u001b[0mprocessor\u001b[0m \u001b[0;32min\u001b[0m \u001b[0mself\u001b[0m\u001b[0;34m.\u001b[0m\u001b[0mprocess_response\u001b[0m\u001b[0;34m.\u001b[0m\u001b[0mget\u001b[0m\u001b[0;34m(\u001b[0m\u001b[0mprotocol\u001b[0m\u001b[0;34m,\u001b[0m \u001b[0;34m[\u001b[0m\u001b[0;34m]\u001b[0m\u001b[0;34m)\u001b[0m\u001b[0;34m:\u001b[0m\u001b[0;34m\u001b[0m\u001b[0;34m\u001b[0m\u001b[0m\n\u001b[1;32m    530\u001b[0m             \u001b[0mmeth\u001b[0m \u001b[0;34m=\u001b[0m \u001b[0mgetattr\u001b[0m\u001b[0;34m(\u001b[0m\u001b[0mprocessor\u001b[0m\u001b[0;34m,\u001b[0m \u001b[0mmeth_name\u001b[0m\u001b[0;34m)\u001b[0m\u001b[0;34m\u001b[0m\u001b[0;34m\u001b[0m\u001b[0m\n\u001b[0;32m--> 531\u001b[0;31m             \u001b[0mresponse\u001b[0m \u001b[0;34m=\u001b[0m \u001b[0mmeth\u001b[0m\u001b[0;34m(\u001b[0m\u001b[0mreq\u001b[0m\u001b[0;34m,\u001b[0m \u001b[0mresponse\u001b[0m\u001b[0;34m)\u001b[0m\u001b[0;34m\u001b[0m\u001b[0;34m\u001b[0m\u001b[0m\n\u001b[0m\u001b[1;32m    532\u001b[0m \u001b[0;34m\u001b[0m\u001b[0m\n\u001b[1;32m    533\u001b[0m         \u001b[0;32mreturn\u001b[0m \u001b[0mresponse\u001b[0m\u001b[0;34m\u001b[0m\u001b[0;34m\u001b[0m\u001b[0m\n",
            "\u001b[0;32m/usr/lib/python3.7/urllib/request.py\u001b[0m in \u001b[0;36mhttp_response\u001b[0;34m(self, request, response)\u001b[0m\n\u001b[1;32m    639\u001b[0m         \u001b[0;32mif\u001b[0m \u001b[0;32mnot\u001b[0m \u001b[0;34m(\u001b[0m\u001b[0;36m200\u001b[0m \u001b[0;34m<=\u001b[0m \u001b[0mcode\u001b[0m \u001b[0;34m<\u001b[0m \u001b[0;36m300\u001b[0m\u001b[0;34m)\u001b[0m\u001b[0;34m:\u001b[0m\u001b[0;34m\u001b[0m\u001b[0;34m\u001b[0m\u001b[0m\n\u001b[1;32m    640\u001b[0m             response = self.parent.error(\n\u001b[0;32m--> 641\u001b[0;31m                 'http', request, response, code, msg, hdrs)\n\u001b[0m\u001b[1;32m    642\u001b[0m \u001b[0;34m\u001b[0m\u001b[0m\n\u001b[1;32m    643\u001b[0m         \u001b[0;32mreturn\u001b[0m \u001b[0mresponse\u001b[0m\u001b[0;34m\u001b[0m\u001b[0;34m\u001b[0m\u001b[0m\n",
            "\u001b[0;32m/usr/lib/python3.7/urllib/request.py\u001b[0m in \u001b[0;36merror\u001b[0;34m(self, proto, *args)\u001b[0m\n\u001b[1;32m    567\u001b[0m         \u001b[0;32mif\u001b[0m \u001b[0mhttp_err\u001b[0m\u001b[0;34m:\u001b[0m\u001b[0;34m\u001b[0m\u001b[0;34m\u001b[0m\u001b[0m\n\u001b[1;32m    568\u001b[0m             \u001b[0margs\u001b[0m \u001b[0;34m=\u001b[0m \u001b[0;34m(\u001b[0m\u001b[0mdict\u001b[0m\u001b[0;34m,\u001b[0m \u001b[0;34m'default'\u001b[0m\u001b[0;34m,\u001b[0m \u001b[0;34m'http_error_default'\u001b[0m\u001b[0;34m)\u001b[0m \u001b[0;34m+\u001b[0m \u001b[0morig_args\u001b[0m\u001b[0;34m\u001b[0m\u001b[0;34m\u001b[0m\u001b[0m\n\u001b[0;32m--> 569\u001b[0;31m             \u001b[0;32mreturn\u001b[0m \u001b[0mself\u001b[0m\u001b[0;34m.\u001b[0m\u001b[0m_call_chain\u001b[0m\u001b[0;34m(\u001b[0m\u001b[0;34m*\u001b[0m\u001b[0margs\u001b[0m\u001b[0;34m)\u001b[0m\u001b[0;34m\u001b[0m\u001b[0;34m\u001b[0m\u001b[0m\n\u001b[0m\u001b[1;32m    570\u001b[0m \u001b[0;34m\u001b[0m\u001b[0m\n\u001b[1;32m    571\u001b[0m \u001b[0;31m# XXX probably also want an abstract factory that knows when it makes\u001b[0m\u001b[0;34m\u001b[0m\u001b[0;34m\u001b[0m\u001b[0;34m\u001b[0m\u001b[0m\n",
            "\u001b[0;32m/usr/lib/python3.7/urllib/request.py\u001b[0m in \u001b[0;36m_call_chain\u001b[0;34m(self, chain, kind, meth_name, *args)\u001b[0m\n\u001b[1;32m    501\u001b[0m         \u001b[0;32mfor\u001b[0m \u001b[0mhandler\u001b[0m \u001b[0;32min\u001b[0m \u001b[0mhandlers\u001b[0m\u001b[0;34m:\u001b[0m\u001b[0;34m\u001b[0m\u001b[0;34m\u001b[0m\u001b[0m\n\u001b[1;32m    502\u001b[0m             \u001b[0mfunc\u001b[0m \u001b[0;34m=\u001b[0m \u001b[0mgetattr\u001b[0m\u001b[0;34m(\u001b[0m\u001b[0mhandler\u001b[0m\u001b[0;34m,\u001b[0m \u001b[0mmeth_name\u001b[0m\u001b[0;34m)\u001b[0m\u001b[0;34m\u001b[0m\u001b[0;34m\u001b[0m\u001b[0m\n\u001b[0;32m--> 503\u001b[0;31m             \u001b[0mresult\u001b[0m \u001b[0;34m=\u001b[0m \u001b[0mfunc\u001b[0m\u001b[0;34m(\u001b[0m\u001b[0;34m*\u001b[0m\u001b[0margs\u001b[0m\u001b[0;34m)\u001b[0m\u001b[0;34m\u001b[0m\u001b[0;34m\u001b[0m\u001b[0m\n\u001b[0m\u001b[1;32m    504\u001b[0m             \u001b[0;32mif\u001b[0m \u001b[0mresult\u001b[0m \u001b[0;32mis\u001b[0m \u001b[0;32mnot\u001b[0m \u001b[0;32mNone\u001b[0m\u001b[0;34m:\u001b[0m\u001b[0;34m\u001b[0m\u001b[0;34m\u001b[0m\u001b[0m\n\u001b[1;32m    505\u001b[0m                 \u001b[0;32mreturn\u001b[0m \u001b[0mresult\u001b[0m\u001b[0;34m\u001b[0m\u001b[0;34m\u001b[0m\u001b[0m\n",
            "\u001b[0;32m/usr/lib/python3.7/urllib/request.py\u001b[0m in \u001b[0;36mhttp_error_default\u001b[0;34m(self, req, fp, code, msg, hdrs)\u001b[0m\n\u001b[1;32m    647\u001b[0m \u001b[0;32mclass\u001b[0m \u001b[0mHTTPDefaultErrorHandler\u001b[0m\u001b[0;34m(\u001b[0m\u001b[0mBaseHandler\u001b[0m\u001b[0;34m)\u001b[0m\u001b[0;34m:\u001b[0m\u001b[0;34m\u001b[0m\u001b[0;34m\u001b[0m\u001b[0m\n\u001b[1;32m    648\u001b[0m     \u001b[0;32mdef\u001b[0m \u001b[0mhttp_error_default\u001b[0m\u001b[0;34m(\u001b[0m\u001b[0mself\u001b[0m\u001b[0;34m,\u001b[0m \u001b[0mreq\u001b[0m\u001b[0;34m,\u001b[0m \u001b[0mfp\u001b[0m\u001b[0;34m,\u001b[0m \u001b[0mcode\u001b[0m\u001b[0;34m,\u001b[0m \u001b[0mmsg\u001b[0m\u001b[0;34m,\u001b[0m \u001b[0mhdrs\u001b[0m\u001b[0;34m)\u001b[0m\u001b[0;34m:\u001b[0m\u001b[0;34m\u001b[0m\u001b[0;34m\u001b[0m\u001b[0m\n\u001b[0;32m--> 649\u001b[0;31m         \u001b[0;32mraise\u001b[0m \u001b[0mHTTPError\u001b[0m\u001b[0;34m(\u001b[0m\u001b[0mreq\u001b[0m\u001b[0;34m.\u001b[0m\u001b[0mfull_url\u001b[0m\u001b[0;34m,\u001b[0m \u001b[0mcode\u001b[0m\u001b[0;34m,\u001b[0m \u001b[0mmsg\u001b[0m\u001b[0;34m,\u001b[0m \u001b[0mhdrs\u001b[0m\u001b[0;34m,\u001b[0m \u001b[0mfp\u001b[0m\u001b[0;34m)\u001b[0m\u001b[0;34m\u001b[0m\u001b[0;34m\u001b[0m\u001b[0m\n\u001b[0m\u001b[1;32m    650\u001b[0m \u001b[0;34m\u001b[0m\u001b[0m\n\u001b[1;32m    651\u001b[0m \u001b[0;32mclass\u001b[0m \u001b[0mHTTPRedirectHandler\u001b[0m\u001b[0;34m(\u001b[0m\u001b[0mBaseHandler\u001b[0m\u001b[0;34m)\u001b[0m\u001b[0;34m:\u001b[0m\u001b[0;34m\u001b[0m\u001b[0;34m\u001b[0m\u001b[0m\n",
            "\u001b[0;31mHTTPError\u001b[0m: HTTP Error 503: Service Unavailable"
          ]
        }
      ]
    },
    {
      "cell_type": "code",
      "source": [
        "# Dados importados\n",
        "\n",
        "dataset.head()"
      ],
      "metadata": {
        "id": "2RGXf0adZYI4"
      },
      "execution_count": null,
      "outputs": []
    },
    {
      "cell_type": "markdown",
      "source": [
        "# Análise exploratória do dados"
      ],
      "metadata": {
        "id": "K8EfQjvyEFll"
      }
    },
    {
      "cell_type": "code",
      "source": [
        "# Explorando os dados\n",
        "# Os atributos \"laufzeit\", \"hoehe\" e \"alter\" são mais espaçadas\n",
        "\n",
        "dataset.describe().T"
      ],
      "metadata": {
        "id": "yfgjcDZ-aFXS"
      },
      "execution_count": null,
      "outputs": []
    },
    {
      "cell_type": "code",
      "source": [
        "# Base sem nulos\n",
        "dataset.info()"
      ],
      "metadata": {
        "id": "zj7qIrk-n2CF"
      },
      "execution_count": null,
      "outputs": []
    },
    {
      "cell_type": "code",
      "source": [
        "# Avaliando a correlação entre os atributos do dataset\n",
        "# Não há, aparentemente, uma correlação forte entre os atributos, apenas entre \"laufzeit\" e \"hoehe\" que é de 62%\n",
        "plt.figure(figsize=(15,15)) \n",
        "sns.heatmap(data=round(dataset.corr(),2),annot=True,linewidths=0.2,cmap='coolwarm', square=True);"
      ],
      "metadata": {
        "id": "CwpcUlC6FfL9"
      },
      "execution_count": null,
      "outputs": []
    },
    {
      "cell_type": "code",
      "source": [
        "# Plotando Gráficos\n",
        "\n",
        "# Define as configurações dos plots\n",
        "# Cada plot terá o mesmo tamanho de figuras (20,40)\n",
        "fig, [[ax1, ax2, ax3], [ax4, ax5, ax6], [ax7, ax8, ax9], [ax10, ax11, ax12], [ax13, ax14, ax15], [ax16, ax17, ax18], [ax19, ax20, ax21]] = plt.subplots(nrows=7, ncols=3, figsize=(20,40))\n",
        "\n",
        "# Dados para cada subplot\n",
        "tabela = dataset.groupby(['laufkont'])[('laufkont')].count()\n",
        "ax1.bar(tabela.index, tabela)\n",
        "\n",
        "#tabela = dataset.groupby(['laufzeit'])[('laufzeit')].count()\n",
        "#ax2.bar(tabela.index, tabela)\n",
        "\n",
        "ax2.hist(dataset['laufzeit'], bins=10)\n",
        "\n",
        "tabela = dataset.groupby(['moral'])[('moral')].count()\n",
        "ax3.bar(tabela.index, tabela)\n",
        "\n",
        "tabela = dataset.groupby(['verw'])[('verw')].count()\n",
        "ax4.bar(tabela.index, tabela)\n",
        "\n",
        "#tabela = dataset.groupby(['hoehe'])[('hoehe')].count()\n",
        "#ax5.bar(tabela.index, tabela)\n",
        "\n",
        "ax5.hist(dataset['hoehe'], bins=10)\n",
        "\n",
        "tabela = dataset.groupby(['sparkont'])[('sparkont')].count()\n",
        "ax6.bar(tabela.index, tabela)\n",
        "\n",
        "tabela = dataset.groupby(['beszeit'])[('beszeit')].count()\n",
        "ax7.bar(tabela.index, tabela)\n",
        "\n",
        "tabela = dataset.groupby(['rate'])[('rate')].count()\n",
        "ax8.bar(tabela.index, tabela)\n",
        "\n",
        "tabela = dataset.groupby(['famges'])[('famges')].count()\n",
        "ax9.bar(tabela.index, tabela)\n",
        "\n",
        "tabela = dataset.groupby(['buerge'])[('buerge')].count()\n",
        "ax10.bar(tabela.index, tabela)\n",
        "\n",
        "tabela = dataset.groupby(['wohnzeit'])[('wohnzeit')].count()\n",
        "ax11.bar(tabela.index, tabela)\n",
        "\n",
        "tabela = dataset.groupby(['verm'])[('verm')].count()\n",
        "ax12.bar(tabela.index, tabela)\n",
        "\n",
        "tabela = dataset.groupby(['alter'])[('alter')].count()\n",
        "ax13.bar(tabela.index, tabela)\n",
        "\n",
        "tabela = dataset.groupby(['weitkred'])[('weitkred')].count()\n",
        "ax14.bar(tabela.index, tabela)\n",
        "\n",
        "tabela = dataset.groupby(['wohn'])[('wohn')].count()\n",
        "ax15.bar(tabela.index, tabela)\n",
        "\n",
        "tabela = dataset.groupby(['bishkred'])[('bishkred')].count()\n",
        "ax16.bar(tabela.index, tabela)\n",
        "\n",
        "tabela = dataset.groupby(['beruf'])[('beruf')].count()\n",
        "ax17.bar(tabela.index, tabela)\n",
        "\n",
        "tabela = dataset.groupby(['pers'])[('pers')].count()\n",
        "ax18.bar(tabela.index, tabela)\n",
        "\n",
        "tabela = dataset.groupby(['telef'])[('telef')].count()\n",
        "ax19.bar(tabela.index, tabela)\n",
        "\n",
        "tabela = dataset.groupby(['gastarb'])[('gastarb')].count()\n",
        "ax20.bar(tabela.index, tabela)\n",
        "\n",
        "tabela = dataset.groupby(['kredit'])[('kredit')].count()\n",
        "ax21.bar(tabela.index, tabela)\n",
        "\n",
        "ax1.set(title=\"laufkont\", xlabel=\"laufkont\", ylabel=\"Quantidade\")\n",
        "ax2.set(title=\"laufzeit\", xlabel=\"laufzeit\", ylabel=\"Quantidade\")\n",
        "ax3.set(title=\"moral\", xlabel=\"moral\", ylabel=\"Quantidade\")\n",
        "ax4.set(title=\"verw\", xlabel=\"verw\", ylabel=\"Quantidade\")\n",
        "ax5.set(title=\"hoehe\", xlabel=\"hoehe\", ylabel=\"Quantidade\")\n",
        "ax6.set(title=\"sparkont\", xlabel=\"sparkont\", ylabel=\"Quantidade\")\n",
        "ax7.set(title=\"beszeit\", xlabel=\"beszeit\", ylabel=\"Quantidade\")\n",
        "ax8.set(title=\"rate\", xlabel=\"rate\", ylabel=\"Quantidade\")\n",
        "ax9.set(title=\"famges\", xlabel=\"famges\", ylabel=\"Quantidade\")\n",
        "ax10.set(title=\"buerge\", xlabel=\"buerge\", ylabel=\"Quantidade\")\n",
        "ax11.set(title=\"wohnzeit\", xlabel=\"wohnzeit\", ylabel=\"Quantidade\")\n",
        "ax12.set(title=\"verm\", xlabel=\"verm\", ylabel=\"Quantidade\")\n",
        "ax13.set(title=\"alter\", xlabel=\"alter\", ylabel=\"Quantidade\")\n",
        "ax14.set(title=\"weitkred\", xlabel=\"weitkred\", ylabel=\"Quantidade\")\n",
        "ax15.set(title=\"wohn\", xlabel=\"wohn\", ylabel=\"Quantidade\")\n",
        "ax16.set(title=\"bishkred\", xlabel=\"bishkred\", ylabel=\"Quantidade\")\n",
        "ax17.set(title=\"beruf\", xlabel=\"beruf\", ylabel=\"Quantidade\")\n",
        "ax18.set(title=\"pers\", xlabel=\"pers\", ylabel=\"Quantidade\")\n",
        "ax19.set(title=\"telef\", xlabel=\"telef\", ylabel=\"Quantidade\")\n",
        "ax20.set(title=\"gastarb\", xlabel=\"gastarb\", ylabel=\"Quantidade\")\n",
        "ax21.set(title=\"kredit\", xlabel=\"kredit\", ylabel=\"Quantidade\")\n",
        "\n",
        "plt.show()"
      ],
      "metadata": {
        "id": "Q_skKhvJaj9r"
      },
      "execution_count": null,
      "outputs": []
    },
    {
      "cell_type": "markdown",
      "source": [
        "# Estimar modelos de clustering particional"
      ],
      "metadata": {
        "id": "nIyzZFbQzr3L"
      }
    },
    {
      "cell_type": "code",
      "source": [
        "# Estimar modelos de clustering particional\n",
        "\n",
        "# Ajustando o dataset\n",
        "X = dataset.iloc[:,:].values\n",
        "\n",
        "kmeans = KMeans(n_clusters = 5, init = 'k-means++', random_state=0, max_iter = 500)\n",
        "#numero máximo de iterações\n",
        "pred_y = kmeans.fit_predict(dataset)\n",
        "plt.scatter(X[:,3], X[:,12], c = pred_y)\n",
        "#posicionamento dos eixos x e y\n",
        "plt.xlim(0, 20000)\n",
        "#range do eixo x\n",
        "plt.ylim(0, 90)\n",
        "#range do eixo y\n",
        "plt.grid()\n",
        "#função que desenha a grade no nosso gráfico\n",
        "plt.scatter(kmeans.cluster_centers_[:,3],kmeans.cluster_centers_[:,12], s = 70, c = 'red')\n",
        "#posição de cada centroide no gráfico\n",
        "plt.show()"
      ],
      "metadata": {
        "id": "Ogr30Su2d3R6"
      },
      "execution_count": null,
      "outputs": []
    },
    {
      "cell_type": "code",
      "source": [
        "sns.scatterplot(data=X, x=X[:,4], y=X[:,12], hue=kmeans.labels_)\n",
        "plt.scatter(kmeans.cluster_centers_[:,4], kmeans.cluster_centers_[:,12], \n",
        "            marker=\"X\", c=\"r\", s=80, label=\"centroids\")\n",
        "plt.title(\"Cluster\")\n",
        "plt.xlabel(\"hoehe - Valor do Empréstimo\")\n",
        "plt.ylabel(\"alter - Idade\")\n",
        "plt.legend()\n",
        "plt.show()\n"
      ],
      "metadata": {
        "id": "iXWLuPA-BPPh"
      },
      "execution_count": null,
      "outputs": []
    },
    {
      "cell_type": "code",
      "source": [
        "kmeans.cluster_centers_[:,4]"
      ],
      "metadata": {
        "id": "VrRj1NF6_xqO"
      },
      "execution_count": null,
      "outputs": []
    },
    {
      "cell_type": "code",
      "source": [
        "kmeans.labels_\n",
        "kmeans.inertia_\n",
        "kmeans.n_iter_\n",
        "kmeans.cluster_centers_"
      ],
      "metadata": {
        "id": "0Vkxw4AH_VoR"
      },
      "execution_count": null,
      "outputs": []
    },
    {
      "cell_type": "code",
      "source": [
        "from yellowbrick.cluster import KElbowVisualizer\n",
        "model = KMeans()\n",
        "visualizer = KElbowVisualizer(model, k=(1,12)).fit(dataset)\n",
        "visualizer.show()\n"
      ],
      "metadata": {
        "id": "oQNn7O_89piN"
      },
      "execution_count": null,
      "outputs": []
    },
    {
      "cell_type": "code",
      "source": [
        "# k-means clustering\n",
        "from numpy import unique\n",
        "from numpy import where\n",
        "from sklearn.datasets import make_classification\n",
        "from sklearn.cluster import KMeans\n",
        "from matplotlib import pyplot\n",
        "# define dataset\n",
        "X, _ = make_classification(n_samples=1000, n_features=2, n_informative=2, n_redundant=0, n_clusters_per_class=1, random_state=4)\n",
        "# define the model\n",
        "model = KMeans(n_clusters=4)\n",
        "# fit the model\n",
        "model.fit(dataset)\n",
        "# assign a cluster to each example\n",
        "yhat = model.predict(dataset)\n",
        "# retrieve unique clusters\n",
        "clusters = unique(dataset.kredit)\n",
        "# create scatter plot for samples from each cluster\n",
        "for cluster in clusters:\n",
        "\t# get row indexes for samples with this cluster\n",
        "\trow_ix = where(yhat == cluster)\n",
        "\t# create scatter of these samples\n",
        "\tpyplot.scatter(dataset[row_ix, 1], dataset[row_ix, 1])\n",
        "# show the plot\n",
        "pyplot.show()"
      ],
      "metadata": {
        "id": "QIrSHYzIjGDk"
      },
      "execution_count": null,
      "outputs": []
    },
    {
      "cell_type": "code",
      "source": [
        "# Escolher o melhor cluster e justificar"
      ],
      "metadata": {
        "id": "ioqqew4vhRLN"
      },
      "execution_count": null,
      "outputs": []
    },
    {
      "cell_type": "code",
      "source": [
        "train, test = train_test_split(dataset, train_size=0.7)"
      ],
      "metadata": {
        "id": "fcF76mySqutt"
      },
      "execution_count": null,
      "outputs": []
    },
    {
      "cell_type": "code",
      "source": [
        "# Concluir sobre os resultados e seu impacto na pergunta de negócio do item 1."
      ],
      "metadata": {
        "id": "urez5hr3hWL2"
      },
      "execution_count": null,
      "outputs": []
    }
  ]
}